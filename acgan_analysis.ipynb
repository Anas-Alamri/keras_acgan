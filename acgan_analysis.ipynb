{
 "cells": [
  {
   "cell_type": "code",
   "execution_count": 2,
   "metadata": {},
   "outputs": [],
   "source": [
    "%matplotlib inline\n",
    "import os\n",
    "import pickle\n",
    "import matplotlib.pyplot as plt\n",
    "import numpy as np\n",
    "import pandas as pd\n",
    "from keras_acgan import build_generator, build_discriminator\n",
    "from glob import glob"
   ]
  },
  {
   "cell_type": "code",
   "execution_count": 3,
   "metadata": {},
   "outputs": [],
   "source": [
    "base_dir = '/tmp/keras_acgan_data'"
   ]
  },
  {
   "cell_type": "code",
   "execution_count": 102,
   "metadata": {},
   "outputs": [],
   "source": [
    "latent_size = 100\n",
    "num_classes = 10\n",
    "\n",
    "# build a generator and load the weights from the last epoch\n",
    "generator = build_generator(latent_size, num_classes)\n",
    "generator.load_weights(glob(os.path.join(base_dir, 'params_generator*'))[-1])\n"
   ]
  },
  {
   "cell_type": "markdown",
   "metadata": {},
   "source": [
    "## Generate images"
   ]
  },
  {
   "cell_type": "code",
   "execution_count": 153,
   "metadata": {},
   "outputs": [
    {
     "data": {
      "image/png": "[encoded data removed]",
      "text/plain": [
       "<matplotlib.figure.Figure at 0x182b3f15c0>"
      ]
     },
     "metadata": {},
     "output_type": "display_data"
    }
   ],
   "source": [
    "noise = np.random.uniform(-1, 1, (10, latent_size))\n",
    "labels = np.arange(10)\n",
    "generated_images = generator.predict([noise, labels])\n",
    "\n",
    "generated_images = generated_images * 127.5 + 127.5\n",
    "row = np.concatenate([i.squeeze() for i in np.split(generated_images, 10)], axis=-1)\n",
    "\n",
    "plt.figure(figsize=(20,10))\n",
    "plt.imshow(row, cmap='gray')\n",
    "plt.show()\n"
   ]
  },
  {
   "cell_type": "markdown",
   "metadata": {},
   "source": [
    "## Test discriminator"
   ]
  },
  {
   "cell_type": "code",
   "execution_count": 154,
   "metadata": {},
   "outputs": [],
   "source": [
    "# build a discriminator and load the weights from the last epoch\n",
    "discriminator = build_discriminator(num_classes)\n",
    "discriminator.load_weights(glob(os.path.join(base_dir, 'params_discriminator*'))[-1])"
   ]
  },
  {
   "cell_type": "markdown",
   "metadata": {},
   "source": [
    "Test discriminator on a random image:"
   ]
  },
  {
   "cell_type": "code",
   "execution_count": 155,
   "metadata": {},
   "outputs": [
    {
     "name": "stdout",
     "output_type": "stream",
     "text": [
      "Is real probability: 0.01956\n"
     ]
    }
   ],
   "source": [
    "random_image = np.random.uniform(-1, 1, (1, 28, 28, 1))\n",
    "is_real_prob, class_probs = discriminator.predict(random_image)\n",
    "print('Is real probability: %.5f' % is_real_prob[0][0])\n"
   ]
  },
  {
   "cell_type": "markdown",
   "metadata": {},
   "source": [
    "Test discriminator on generated images:"
   ]
  },
  {
   "cell_type": "code",
   "execution_count": 156,
   "metadata": {},
   "outputs": [
    {
     "name": "stdout",
     "output_type": "stream",
     "text": [
      "Image 0: predicted_class=0 is_real_prob=0.686972\n",
      "Image 1: predicted_class=1 is_real_prob=0.761248\n",
      "Image 2: predicted_class=2 is_real_prob=0.556456\n",
      "Image 3: predicted_class=3 is_real_prob=0.605129\n",
      "Image 4: predicted_class=4 is_real_prob=0.666283\n",
      "Image 5: predicted_class=5 is_real_prob=0.773854\n",
      "Image 6: predicted_class=6 is_real_prob=0.321824\n",
      "Image 7: predicted_class=7 is_real_prob=0.719175\n",
      "Image 8: predicted_class=8 is_real_prob=0.759448\n",
      "Image 9: predicted_class=9 is_real_prob=0.689945\n"
     ]
    }
   ],
   "source": [
    "\n",
    "noise = np.random.uniform(-1, 1, (10, latent_size))\n",
    "label = np.arange(10)\n",
    "generated_images = generator.predict([noise, label])\n",
    "\n",
    "idx = np.arange(10)\n",
    "is_real_probs, class_probs = discriminator.predict(generated_images)\n",
    "for i, is_real, class_prob in zip(idx, is_real_probs, class_probs):\n",
    "    print('Image %d: predicted_class=%d is_real_prob=%f' % (i, class_prob.argmax(), is_real[0]))\n"
   ]
  },
  {
   "cell_type": "markdown",
   "metadata": {},
   "source": [
    "Test discriminator on real images"
   ]
  },
  {
   "cell_type": "code",
   "execution_count": 157,
   "metadata": {},
   "outputs": [
    {
     "name": "stdout",
     "output_type": "stream",
     "text": [
      "Image 0: predicted_class=7 real_class=7 is_real_prob=0.855357\n",
      "Image 1: predicted_class=2 real_class=2 is_real_prob=0.806631\n",
      "Image 2: predicted_class=1 real_class=1 is_real_prob=0.679157\n",
      "Image 3: predicted_class=0 real_class=0 is_real_prob=0.755746\n",
      "Image 4: predicted_class=4 real_class=4 is_real_prob=0.374756\n",
      "Image 5: predicted_class=1 real_class=1 is_real_prob=0.810052\n",
      "Image 6: predicted_class=4 real_class=4 is_real_prob=0.472261\n",
      "Image 7: predicted_class=9 real_class=9 is_real_prob=0.696396\n",
      "Image 8: predicted_class=5 real_class=5 is_real_prob=0.498745\n",
      "Image 9: predicted_class=9 real_class=9 is_real_prob=0.941325\n"
     ]
    }
   ],
   "source": [
    "from keras.datasets import mnist\n",
    "\n",
    "(x_train, y_train), (x_test, y_test) = mnist.load_data()\n",
    "x_test = (x_test.astype(np.float32) - 127.5) / 127.5\n",
    "x_test = np.expand_dims(x_test, axis=-1)\n",
    "\n",
    "idx = np.arange(10)\n",
    "is_real_probs, class_probs = discriminator.predict(x_test[:10])\n",
    "for i, is_real, class_prob, real_class in zip(idx, is_real_probs, class_probs, y_test[:10]):\n",
    "    print('Image %d: predicted_class=%d real_class=%d is_real_prob=%f' % (i, class_prob.argmax(), real_class, is_real[0]))\n",
    "    "
   ]
  }
 ],
 "metadata": {
  "kernelspec": {
   "display_name": "Python 3",
   "language": "python",
   "name": "python3"
  },
  "language_info": {
   "codemirror_mode": {
    "name": "ipython",
    "version": 3
   },
   "file_extension": ".py",
   "mimetype": "text/x-python",
   "name": "python",
   "nbconvert_exporter": "python",
   "pygments_lexer": "ipython3",
   "version": "3.6.4"
  }
 },
 "nbformat": 4,
 "nbformat_minor": 2
}
